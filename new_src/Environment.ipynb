{
 "cells": [
  {
   "cell_type": "markdown",
   "metadata": {},
   "source": [
    "# Environment\n",
    "\n",
    "In this file an Environment class with three diffrent methodologies is cunstructed to face with our problem. This three types of modeling is helping us for a better ovecome to tackle this issue."
   ]
  },
  {
   "cell_type": "markdown",
   "metadata": {},
   "source": [
    "برای مدل‌سازی مسئله ما ۳ سناریو متفاوت را در ادامه بررسی خواهیم کرد.\n",
    "\n",
    "سناریوی اول:\n",
    "در این سناریو، محیط ما که قرار است استیت‌های شبکه را تشکیل دهد برابر با ماتریس ورودی درنظر می‌شود."
   ]
  },
  {
   "cell_type": "markdown",
   "metadata": {},
   "source": [
    "## First senario: "
   ]
  },
  {
   "cell_type": "markdown",
   "metadata": {},
   "source": [
    "State: ()\n",
    "\n",
    "we define the input $D$ matrix as the observation\n",
    "and for action, we get a random indeces of matrix and "
   ]
  },
  {
   "cell_type": "code",
   "execution_count": null,
   "metadata": {},
   "outputs": [],
   "source": []
  },
  {
   "cell_type": "code",
   "execution_count": null,
   "metadata": {},
   "outputs": [],
   "source": []
  },
  {
   "cell_type": "code",
   "execution_count": 4,
   "metadata": {},
   "outputs": [],
   "source": [
    "import numpy as np\n",
    "from sklearn.decomposition import PCA"
   ]
  },
  {
   "cell_type": "code",
   "execution_count": 408,
   "metadata": {},
   "outputs": [],
   "source": [
    "a = [\\\n",
    "     \n",
    "    [0., 1., 0., 1., 0., 1., 1., 0., 0., 0., 0.],\n",
    "    [0., 1., 0., 1., 1., 0., 1., 0., 1., 0., 1.],\n",
    "    [0., 1., 0., 1., 0., 1., 1., 1., 0., 0., 0.],\n",
    "    [0., 0., 0., 1., 0., 0., 0., 0., 0., 0., 0.],\n",
    "    [0., 1., 0., 1., 0., 0., 0., 0., 0., 0., 0.],\n",
    "    [0., 1., 0., 1., 0., 0., 1., 0., 1., 0., 1.],\n",
    "    [0., 1., 0., 1., 1., 0., 1., 0., 1., 0., 1.],\n",
    "    [0., 0., 0., 0., 0., 0., 0., 0., 0., 0., 0.],\n",
    "    [0., 1., 1., 1., 0., 1., 1., 0., 0., 0., 0.],\n",
    "    [0., 1., 0., 1., 0., 0., 1., 0., 1., 0., 1.],\n",
    "    [1., 1., 0., 1., 0., 1., 1., 1., 0., 0., 0.],\n",
    "    [0., 1., 0., 1., 0., 0., 1., 0., 0., 0., 0.],\n",
    "    [0., 1., 0., 1., 0., 0., 1., 0., 1., 0., 1.]\n",
    "]"
   ]
  },
  {
   "cell_type": "code",
   "execution_count": 409,
   "metadata": {},
   "outputs": [],
   "source": [
    "m = np.array(a)"
   ]
  },
  {
   "cell_type": "code",
   "execution_count": 410,
   "metadata": {},
   "outputs": [],
   "source": [
    "def measure(f):\n",
    "    import timeit\n",
    "    def wrapped(*args, **kwargs):\n",
    "        tic = timeit.default_timer()\n",
    "        ret = f(*args, **kwargs)\n",
    "        toc = timeit.default_timer()\n",
    "        print(\"TICTOC: {}\".format((toc - tic)))\n",
    "        return ret\n",
    "    return wrapped\n",
    "              \n",
    "@measure             \n",
    "def conflict(B):\n",
    "    B = B.astype(np.uint8)\n",
    "    N, M = B.shape[:2]\n",
    "    confilicts = []\n",
    "    for m1 in range(M):\n",
    "        for m2 in range(m1+1, M):\n",
    "\n",
    "            for c1 in range(N):\n",
    "                if B[c1,m1]==0 and B[c1,m2]==0:\n",
    "                    continue\n",
    "                for c2 in range(c1+1, N):\n",
    "                    for c3 in range(c2+1, N):\n",
    "                        if B[c1,m1]+B[c2,m1]+B[c3,m1]!=2 or B[c1,m2]+B[c2,m2]+B[c3,m2]!=2:\n",
    "                            continue\n",
    "\n",
    "#                         Y = np.array([\n",
    "#                             [B[c1,m1], B[c1,m2]],\n",
    "#                             [B[c2,m1], B[c2,m2]],\n",
    "#                             [B[c3,m1], B[c3,m2]],\n",
    "#                         ])\n",
    "#                         cond1 = np.sum(Y, axis=1).tolist() in [[1,1,2], [1,2,1], [2,1,1]]\n",
    "#                         cond2 = np.sum(Y, axis=0).tolist() == [2,2]\n",
    " \n",
    "                        if [B[c1,m1]+B[c1,m2],B[c2,m1]+B[c2,m2],B[c3,m1]+B[c3,m2]] in [[1,1,2],[1,2,1],[2,1,1]]:\n",
    "                            confilicts.append((c1,c2,c3,m1,m2))\n",
    "\n",
    "    return confilicts"
   ]
  },
  {
   "cell_type": "code",
   "execution_count": 411,
   "metadata": {},
   "outputs": [
    {
     "name": "stdout",
     "output_type": "stream",
     "text": [
      "TICTOC: 0.08153662737458944\n"
     ]
    },
    {
     "data": {
      "text/plain": [
       "0"
      ]
     },
     "execution_count": 411,
     "metadata": {},
     "output_type": "execute_result"
    }
   ],
   "source": [
    "len(conflict(m))"
   ]
  },
  {
   "cell_type": "code",
   "execution_count": 412,
   "metadata": {},
   "outputs": [
    {
     "data": {
      "text/plain": [
       "[1, 11, 1, 12, 2, 4, 10, 2, 5, 0, 5]"
      ]
     },
     "execution_count": 412,
     "metadata": {},
     "output_type": "execute_result"
    }
   ],
   "source": [
    "np.sum(m, axis=0).astype(int).tolist()"
   ]
  },
  {
   "cell_type": "code",
   "execution_count": 416,
   "metadata": {},
   "outputs": [],
   "source": [
    "def sort_m(m):\n",
    "    sum0 = np.sum(m, axis=0)\n",
    "    sum1 = np.sum(m, axis=1)\n",
    "    \n",
    "    arg0 = np.argsort(sum0).astype(int).tolist()\n",
    "    arg1 = np.argsort(sum1).astype(int).tolist()\n",
    "    \n",
    "    sorted_m = m[arg1, :][:, arg0[::-1]]\n",
    "    \n",
    "    print(sorted_m)"
   ]
  },
  {
   "cell_type": "code",
   "execution_count": 417,
   "metadata": {},
   "outputs": [
    {
     "data": {
      "text/plain": [
       "array([[0., 1., 0., 1., 0., 1., 1., 0., 0., 0., 0.],\n",
       "       [0., 1., 0., 1., 1., 0., 1., 0., 1., 0., 1.],\n",
       "       [0., 1., 0., 1., 0., 1., 1., 1., 0., 0., 0.],\n",
       "       [0., 0., 0., 1., 0., 0., 0., 0., 0., 0., 0.],\n",
       "       [0., 1., 0., 1., 0., 0., 0., 0., 0., 0., 0.],\n",
       "       [0., 1., 0., 1., 0., 0., 1., 0., 1., 0., 1.],\n",
       "       [0., 1., 0., 1., 1., 0., 1., 0., 1., 0., 1.],\n",
       "       [0., 0., 0., 0., 0., 0., 0., 0., 0., 0., 0.],\n",
       "       [0., 1., 1., 1., 0., 1., 1., 0., 0., 0., 0.],\n",
       "       [0., 1., 0., 1., 0., 0., 1., 0., 1., 0., 1.],\n",
       "       [1., 1., 0., 1., 0., 1., 1., 1., 0., 0., 0.],\n",
       "       [0., 1., 0., 1., 0., 0., 1., 0., 0., 0., 0.],\n",
       "       [0., 1., 0., 1., 0., 0., 1., 0., 1., 0., 1.]])"
      ]
     },
     "execution_count": 417,
     "metadata": {},
     "output_type": "execute_result"
    }
   ],
   "source": [
    "m"
   ]
  },
  {
   "cell_type": "code",
   "execution_count": 418,
   "metadata": {},
   "outputs": [
    {
     "name": "stdout",
     "output_type": "stream",
     "text": [
      "[[0. 0. 0. 0. 0. 0. 0. 0. 0. 0. 0.]\n",
      " [1. 0. 0. 0. 0. 0. 0. 0. 0. 0. 0.]\n",
      " [1. 1. 0. 0. 0. 0. 0. 0. 0. 0. 0.]\n",
      " [1. 1. 1. 0. 0. 0. 0. 0. 0. 0. 0.]\n",
      " [1. 1. 1. 0. 0. 1. 0. 0. 0. 0. 0.]\n",
      " [1. 1. 1. 0. 0. 1. 1. 0. 0. 0. 0.]\n",
      " [1. 1. 1. 1. 1. 0. 0. 0. 0. 0. 0.]\n",
      " [1. 1. 1. 0. 0. 1. 0. 0. 1. 0. 0.]\n",
      " [1. 1. 1. 1. 1. 0. 0. 0. 0. 0. 0.]\n",
      " [1. 1. 1. 1. 1. 0. 0. 0. 0. 0. 0.]\n",
      " [1. 1. 1. 1. 1. 0. 0. 1. 0. 0. 0.]\n",
      " [1. 1. 1. 1. 1. 0. 0. 1. 0. 0. 0.]\n",
      " [1. 1. 1. 0. 0. 1. 1. 0. 0. 1. 0.]]\n"
     ]
    }
   ],
   "source": [
    "sort_m(m)"
   ]
  },
  {
   "cell_type": "markdown",
   "metadata": {},
   "source": [
    "res"
   ]
  },
  {
   "cell_type": "markdown",
   "metadata": {},
   "source": [
    "# Data"
   ]
  },
  {
   "cell_type": "code",
   "execution_count": null,
   "metadata": {},
   "outputs": [],
   "source": [
    "class Tree():\n",
    "    pass\n",
    "\n",
    "class TreeGenerator():\n",
    "    pass"
   ]
  },
  {
   "cell_type": "markdown",
   "metadata": {},
   "source": []
  },
  {
   "cell_type": "code",
   "execution_count": null,
   "metadata": {},
   "outputs": [],
   "source": [
    "class ActionSpace(object):\n",
    "    \"\"\"Defines the observation and action spaces, so you can write generic\n",
    "    code that applies to any Env. For example, you can choose a random\n",
    "    action.\n",
    "    \"\"\"\n",
    "    def __init__(self, shape=None, dtype=None):\n",
    "        import numpy as np  # takes about 300-400ms to import, so we load lazily\n",
    "        self.shape = None if shape is None else tuple(shape)\n",
    "        self.dtype = None if dtype is None else np.dtype(dtype)\n",
    "        self.low = 0\n",
    "        self.high = 1\n",
    "        self._np_random = None\n",
    "\n",
    "    def sample(self):\n",
    "        \"\"\"Randomly sample an element of this space. Can be \n",
    "        uniform or non-uniform sampling based on boundedness of space.\"\"\"\n",
    "        raise NotImplementedError\n",
    "\n",
    "    def seed(self, seed=None):\n",
    "        \"\"\"Seed the PRNG of this space. \"\"\"\n",
    "        self._np_random, seed = seeding.np_random(seed)\n",
    "        return [seed]\n",
    "    \n",
    "    \n",
    "class ObservationSpace(object):\n",
    "    def __init__(self, shape=None, dtype=None):\n",
    "        import numpy as np  # takes about 300-400ms to import, so we load lazily\n",
    "        self.shape = None if shape is None else tuple(shape)\n",
    "        self.dtype = None if dtype is None else np.dtype(dtype)\n",
    "        self.low = 0\n",
    "        self.high = 1\n",
    "        self._np_random = None"
   ]
  },
  {
   "cell_type": "code",
   "execution_count": null,
   "metadata": {},
   "outputs": [],
   "source": []
  },
  {
   "cell_type": "code",
   "execution_count": 378,
   "metadata": {},
   "outputs": [],
   "source": [
    "class Environment(object):\n",
    "    def __init__(self, **params):\n",
    "        self.__E = E\n",
    "        self.__D = D\n",
    "        self.__gamma = 0.9\n",
    "        self.action_space = ActionSpace()\n",
    "        self.observation_space = ObservationSpace()\n",
    "        self.max_episode_step = \"\"\n",
    "        \n",
    "        N, M = params[\"N\"], params[\"M\"]\n",
    "        generator = TreeGenerator(\n",
    "            M, N,\n",
    "            ZETA=1,\n",
    "            Gamma=0.15,\n",
    "            alpha=0.2,\n",
    "            beta=0.08,\n",
    "            MR=0.05,\n",
    "            save_dir=False,\n",
    "        )\n",
    "        \n",
    "        self.__tree = generator.generate()\n",
    "        return\n",
    "    \n",
    "    def reset(self,):\n",
    "        return obs\n",
    "    \n",
    "    def step(self, action):\n",
    "        return obs, reward, done, info\n",
    "    \n",
    "    def seed(self, seed):\n",
    "        pass\n",
    "    \n",
    "    def get_loss(self, B):\n",
    "        c = self.conflict(B)\n",
    "        l = self.likelihood(B)\n",
    "        return c + self.__gamma*l\n",
    "        \n",
    "        \n",
    "    def conflict(B):\n",
    "        B = B.astype(np.uint8)\n",
    "        N, M = B.shape[:2]\n",
    "        confilicts = []\n",
    "        for m1 in range(M):\n",
    "            for m2 in range(m1+1, M):\n",
    "\n",
    "                for c1 in range(N):\n",
    "                    if B[c1,m1]==0 and B[c1,m2]==0:\n",
    "                        continue\n",
    "                    for c2 in range(c1+1, N):\n",
    "                        for c3 in range(c2+1, N):\n",
    "                            if B[c1,m1]+B[c2,m1]+B[c3,m1]!=2 or B[c1,m2]+B[c2,m2]+B[c3,m2]!=2:\n",
    "                                continue\n",
    "\n",
    "    #                         Y = np.array([\n",
    "    #                             [B[c1,m1], B[c1,m2]],\n",
    "    #                             [B[c2,m1], B[c2,m2]],\n",
    "    #                             [B[c3,m1], B[c3,m2]],\n",
    "    #                         ])\n",
    "    #                         cond1 = np.sum(Y, axis=1).tolist() in [[1,1,2], [1,2,1], [2,1,1]]\n",
    "    #                         cond2 = np.sum(Y, axis=0).tolist() == [2,2]\n",
    "\n",
    "                            if [B[c1,m1]+B[c1,m2],B[c2,m1]+B[c2,m2],B[c3,m1]+B[c3,m2]] in [[1,1,2],[1,2,1],[2,1,1]]:\n",
    "                                confilicts.append((c1,c2,c3,m1,m2))\n",
    "\n",
    "        return confilicts\n",
    "\n",
    "    \n",
    "    def likelihood(self, B):\n",
    "        E = self.__E\n",
    "        a = self.__tree.get_alpha()\n",
    "        b = self.__tree.get_beta()\n",
    "        \n",
    "        # N00 -> count([b=0]^[e=0])\n",
    "        N00 = np.prod(B.shape[:2]) - np.count_nonzero(B+E)\n",
    "        \n",
    "        # N11 -> count([b=1]^[e=1])\n",
    "        N11 = np.count_nonzero(B*E)\n",
    "        \n",
    "        # N01 -> count([b=0]^[e=1])\n",
    "        N00 = np.count_nonzero( np.where((E-B)>0,1,0) )\n",
    "        \n",
    "        # N10 -> count([b=1]^[e=0])\n",
    "        N11 = np.count_nonzero( np.where((B-E)>0,1,0) )\n",
    "        \n",
    "        # alpha^N10 * beta^N01 * (1-alpha)^N00 * (1-beta)^N11\n",
    "        lh = a**N10 * b**N01 * (1-a)**N00 * (1-b)**N11\n",
    "        \n",
    "        return lh\n",
    "        "
   ]
  },
  {
   "cell_type": "code",
   "execution_count": null,
   "metadata": {},
   "outputs": [],
   "source": []
  },
  {
   "cell_type": "code",
   "execution_count": null,
   "metadata": {},
   "outputs": [],
   "source": []
  },
  {
   "cell_type": "code",
   "execution_count": null,
   "metadata": {},
   "outputs": [],
   "source": []
  },
  {
   "cell_type": "code",
   "execution_count": null,
   "metadata": {},
   "outputs": [],
   "source": []
  },
  {
   "cell_type": "code",
   "execution_count": null,
   "metadata": {},
   "outputs": [],
   "source": []
  }
 ],
 "metadata": {
  "kernelspec": {
   "display_name": "Python 3",
   "language": "python",
   "name": "python3"
  },
  "language_info": {
   "codemirror_mode": {
    "name": "ipython",
    "version": 3
   },
   "file_extension": ".py",
   "mimetype": "text/x-python",
   "name": "python",
   "nbconvert_exporter": "python",
   "pygments_lexer": "ipython3",
   "version": "3.6.9"
  }
 },
 "nbformat": 4,
 "nbformat_minor": 4
}
